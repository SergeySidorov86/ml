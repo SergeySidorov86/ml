{
 "cells": [
  {
   "cell_type": "markdown",
   "metadata": {},
   "source": [
    "# Поиск наиболее близкого имени участника"
   ]
  },
  {
   "cell_type": "code",
   "execution_count": 2,
   "metadata": {},
   "outputs": [
    {
     "ename": "ImportError",
     "evalue": "No module named Levenshtein",
     "output_type": "error",
     "traceback": [
      "\u001b[1;31m---------------------------------------------------------------------------\u001b[0m",
      "\u001b[1;31mImportError\u001b[0m                               Traceback (most recent call last)",
      "\u001b[1;32m<ipython-input-2-b505a2d7ef3c>\u001b[0m in \u001b[0;36m<module>\u001b[1;34m()\u001b[0m\n\u001b[0;32m      2\u001b[0m \u001b[1;31m# или pip install python-levenshtein\u001b[0m\u001b[1;33m\u001b[0m\u001b[1;33m\u001b[0m\u001b[0m\n\u001b[0;32m      3\u001b[0m \u001b[1;33m\u001b[0m\u001b[0m\n\u001b[1;32m----> 4\u001b[1;33m \u001b[1;32mimport\u001b[0m \u001b[0mLevenshtein\u001b[0m\u001b[1;33m\u001b[0m\u001b[0m\n\u001b[0m",
      "\u001b[1;31mImportError\u001b[0m: No module named Levenshtein"
     ]
    }
   ],
   "source": [
    "# conda install -c conda-forge python-levenshtein\n",
    "# или pip install python-levenshtein\n",
    "\n",
    "import Levenshtein"
   ]
  },
  {
   "cell_type": "code",
   "execution_count": 4,
   "metadata": {},
   "outputs": [],
   "source": [
    "# что было написано в заявке\n",
    "\n",
    "claim_list = [\n",
    "    'Шехавцова Анна',\n",
    "    'Гречихина Наталья',\n",
    "    'Козлова Алена',\n",
    "    'Груздева Алина',\n",
    "    'Кущенко Анна',\n",
    "    'Чистякова Анастасия'\n",
    "]"
   ]
  },
  {
   "cell_type": "code",
   "execution_count": 5,
   "metadata": {},
   "outputs": [],
   "source": [
    "# результат расшифровки речи диктора\n",
    "\n",
    "speech_recognition = [\n",
    "    'кучменко она',\n",
    "    'кущенко оксана',\n",
    "    'груздь алина',\n",
    "    'рычихина наталья',\n",
    "    'шиховцева на',\n",
    "    'чистова анастасия'\n",
    "]"
   ]
  },
  {
   "cell_type": "markdown",
   "metadata": {},
   "source": [
    "### С библиотекой Levenshtein"
   ]
  },
  {
   "cell_type": "code",
   "execution_count": 4,
   "metadata": {},
   "outputs": [
    {
     "data": {
      "text/plain": [
       "4"
      ]
     },
     "execution_count": 4,
     "metadata": {},
     "output_type": "execute_result"
    }
   ],
   "source": [
    "Levenshtein.distance('Оксана', 'Анна')"
   ]
  },
  {
   "cell_type": "code",
   "execution_count": 5,
   "metadata": {},
   "outputs": [
    {
     "name": "stdout",
     "output_type": "stream",
     "text": [
      "кучменко она\n",
      "кущенко оксана\n",
      "груздь алина\n",
      "рычихина наталья\n",
      "шиховцева на\n",
      "чистова анастасия\n"
     ]
    }
   ],
   "source": [
    "for recognized_name in speech_recognition:\n",
    "    print(recognized_name)"
   ]
  },
  {
   "cell_type": "code",
   "execution_count": 6,
   "metadata": {},
   "outputs": [
    {
     "name": "stdout",
     "output_type": "stream",
     "text": [
      "кучменко она,Шехавцова Анна,11\n",
      "кучменко она,Гречихина Наталья,14\n",
      "кучменко она,Козлова Алена,11\n",
      "кучменко она,Груздева Алина,10\n",
      "кучменко она,Кущенко Анна,5\n",
      "кучменко она,Чистякова Анастасия,15\n",
      "кущенко оксана,Шехавцова Анна,11\n",
      "кущенко оксана,Гречихина Наталья,15\n",
      "кущенко оксана,Козлова Алена,11\n",
      "кущенко оксана,Груздева Алина,11\n",
      "кущенко оксана,Кущенко Анна,5\n",
      "кущенко оксана,Чистякова Анастасия,14\n",
      "груздь алина,Шехавцова Анна,11\n",
      "груздь алина,Гречихина Наталья,14\n",
      "груздь алина,Козлова Алена,9\n",
      "груздь алина,Груздева Алина,5\n",
      "груздь алина,Кущенко Анна,10\n",
      "груздь алина,Чистякова Анастасия,16\n",
      "рычихина наталья,Шехавцова Анна,14\n",
      "рычихина наталья,Гречихина Наталья,3\n",
      "рычихина наталья,Козлова Алена,14\n",
      "рычихина наталья,Груздева Алина,14\n",
      "рычихина наталья,Кущенко Анна,14\n",
      "рычихина наталья,Чистякова Анастасия,12\n",
      "шиховцева на,Шехавцова Анна,6\n",
      "шиховцева на,Гречихина Наталья,14\n",
      "шиховцева на,Козлова Алена,9\n",
      "шиховцева на,Груздева Алина,9\n",
      "шиховцева на,Кущенко Анна,10\n",
      "шиховцева на,Чистякова Анастасия,13\n",
      "чистова анастасия,Шехавцова Анна,13\n",
      "чистова анастасия,Гречихина Наталья,12\n",
      "чистова анастасия,Козлова Алена,12\n",
      "чистова анастасия,Груздева Алина,14\n",
      "чистова анастасия,Кущенко Анна,14\n",
      "чистова анастасия,Чистякова Анастасия,4\n"
     ]
    }
   ],
   "source": [
    "for recognized_name in speech_recognition:\n",
    "    for real_name in claim_list:\n",
    "        print('{},{},{}'.format(recognized_name, real_name, Levenshtein.distance(recognized_name, real_name)))"
   ]
  },
  {
   "cell_type": "markdown",
   "metadata": {},
   "source": [
    "### Без библиотеки из файла 'recognized_stats.txt'"
   ]
  },
  {
   "cell_type": "code",
   "execution_count": 8,
   "metadata": {},
   "outputs": [
    {
     "ename": "TypeError",
     "evalue": "'encoding' is an invalid keyword argument for this function",
     "output_type": "error",
     "traceback": [
      "\u001b[1;31m---------------------------------------------------------------------------\u001b[0m",
      "\u001b[1;31mTypeError\u001b[0m                                 Traceback (most recent call last)",
      "\u001b[1;32m<ipython-input-8-5b032465d280>\u001b[0m in \u001b[0;36m<module>\u001b[1;34m()\u001b[0m\n\u001b[0;32m      1\u001b[0m \u001b[0mdistances\u001b[0m \u001b[1;33m=\u001b[0m \u001b[1;33m[\u001b[0m\u001b[1;33m]\u001b[0m\u001b[1;33m\u001b[0m\u001b[0m\n\u001b[0;32m      2\u001b[0m \u001b[1;33m\u001b[0m\u001b[0m\n\u001b[1;32m----> 3\u001b[1;33m \u001b[0mf\u001b[0m \u001b[1;33m=\u001b[0m \u001b[0mopen\u001b[0m\u001b[1;33m(\u001b[0m\u001b[1;34m'recognized_stats.txt'\u001b[0m\u001b[1;33m,\u001b[0m \u001b[0mmode\u001b[0m \u001b[1;33m=\u001b[0m \u001b[1;34m'r'\u001b[0m\u001b[1;33m,\u001b[0m \u001b[0mencoding\u001b[0m \u001b[1;33m=\u001b[0m \u001b[1;34m'utf-8'\u001b[0m\u001b[1;33m)\u001b[0m\u001b[1;33m\u001b[0m\u001b[0m\n\u001b[0m\u001b[0;32m      4\u001b[0m \u001b[1;33m\u001b[0m\u001b[0m\n\u001b[0;32m      5\u001b[0m \u001b[0mlines\u001b[0m \u001b[1;33m=\u001b[0m \u001b[1;33m[\u001b[0m\u001b[0mline\u001b[0m\u001b[1;33m.\u001b[0m\u001b[0mstrip\u001b[0m\u001b[1;33m(\u001b[0m\u001b[1;33m)\u001b[0m\u001b[1;33m.\u001b[0m\u001b[0msplit\u001b[0m\u001b[1;33m(\u001b[0m\u001b[1;34m';'\u001b[0m\u001b[1;33m)\u001b[0m \u001b[1;32mfor\u001b[0m \u001b[0mline\u001b[0m \u001b[1;32min\u001b[0m \u001b[0mf\u001b[0m\u001b[1;33m]\u001b[0m\u001b[1;33m\u001b[0m\u001b[0m\n",
      "\u001b[1;31mTypeError\u001b[0m: 'encoding' is an invalid keyword argument for this function"
     ]
    }
   ],
   "source": [
    "distances = []\n",
    "\n",
    "f = open('recognized_stats.txt', mode = 'r', encoding = 'utf-8')\n",
    "\n",
    "lines = [line.strip().split(';') for line in f]\n",
    "\n",
    "for line in lines:\n",
    "    \n",
    "    for rec in line:\n",
    "        recognized_name, real_name, distance = rec.split(',')\n",
    "        print(recognized_name, real_name, distance)"
   ]
  },
  {
   "cell_type": "markdown",
   "metadata": {},
   "source": [
    "### Сортировка словаря"
   ]
  },
  {
   "cell_type": "code",
   "execution_count": 6,
   "metadata": {},
   "outputs": [
    {
     "name": "stdout",
     "output_type": "stream",
     "text": [
      "{'Шехавцова Анна': 11, 'Гречихина Наталья': 14, 'Козлова Алена': 11, 'Груздева Алина': 10, 'Кущенко Анна': 5, 'Чистякова Анастасия': 15}\n"
     ]
    }
   ],
   "source": [
    "for recognized_name in speech_recognition:\n",
    "    distances = {real_name: Levenshtein.distance(recognized_name, real_name) for real_name in claim_list}\n",
    "    print(distances)\n",
    "    \n",
    "    break"
   ]
  },
  {
   "cell_type": "code",
   "execution_count": 7,
   "metadata": {},
   "outputs": [
    {
     "data": {
      "text/plain": [
       "[('Кущенко Анна', 5),\n",
       " ('Груздева Алина', 10),\n",
       " ('Шехавцова Анна', 11),\n",
       " ('Козлова Алена', 11),\n",
       " ('Гречихина Наталья', 14),\n",
       " ('Чистякова Анастасия', 15)]"
      ]
     },
     "execution_count": 7,
     "metadata": {},
     "output_type": "execute_result"
    }
   ],
   "source": [
    "# x[1] - сортировка по значениям словаря по возрастанию (если надо по убыванию - добавляем минус перед x[1])\n",
    "# x[0] - по ключам\n",
    "sorted(distances.items(), key = lambda x: x[1])"
   ]
  },
  {
   "cell_type": "code",
   "execution_count": 10,
   "metadata": {},
   "outputs": [
    {
     "ename": "NameError",
     "evalue": "global name 'Levenshtein' is not defined",
     "output_type": "error",
     "traceback": [
      "\u001b[1;31m---------------------------------------------------------------------------\u001b[0m",
      "\u001b[1;31mNameError\u001b[0m                                 Traceback (most recent call last)",
      "\u001b[1;32m<ipython-input-10-afd1aacc12a9>\u001b[0m in \u001b[0;36m<module>\u001b[1;34m()\u001b[0m\n\u001b[0;32m      1\u001b[0m \u001b[1;32mfor\u001b[0m \u001b[0mrecognized_name\u001b[0m \u001b[1;32min\u001b[0m \u001b[0mspeech_recognition\u001b[0m\u001b[1;33m:\u001b[0m\u001b[1;33m\u001b[0m\u001b[0m\n\u001b[1;32m----> 2\u001b[1;33m     \u001b[0mdistances\u001b[0m \u001b[1;33m=\u001b[0m \u001b[1;33m{\u001b[0m\u001b[0mreal_name\u001b[0m\u001b[1;33m:\u001b[0m \u001b[0mLevenshtein\u001b[0m\u001b[1;33m.\u001b[0m\u001b[0mdistance\u001b[0m\u001b[1;33m(\u001b[0m\u001b[0mrecognized_name\u001b[0m\u001b[1;33m,\u001b[0m \u001b[0mreal_name\u001b[0m\u001b[1;33m)\u001b[0m \u001b[1;32mfor\u001b[0m \u001b[0mreal_name\u001b[0m \u001b[1;32min\u001b[0m \u001b[0mclaim_list\u001b[0m\u001b[1;33m}\u001b[0m\u001b[1;33m\u001b[0m\u001b[0m\n\u001b[0m\u001b[0;32m      3\u001b[0m     \u001b[1;32mprint\u001b[0m\u001b[1;33m(\u001b[0m\u001b[0mrecognized_name\u001b[0m \u001b[1;33m+\u001b[0m \u001b[1;34m' '\u001b[0m \u001b[1;33m+\u001b[0m \u001b[0msorted\u001b[0m\u001b[1;33m(\u001b[0m\u001b[0mdistances\u001b[0m\u001b[1;33m.\u001b[0m\u001b[0mitems\u001b[0m\u001b[1;33m(\u001b[0m\u001b[1;33m)\u001b[0m\u001b[1;33m,\u001b[0m \u001b[0mkey\u001b[0m \u001b[1;33m=\u001b[0m \u001b[1;32mlambda\u001b[0m \u001b[0mx\u001b[0m\u001b[1;33m:\u001b[0m \u001b[0mx\u001b[0m\u001b[1;33m[\u001b[0m\u001b[1;36m1\u001b[0m\u001b[1;33m]\u001b[0m\u001b[1;33m)\u001b[0m\u001b[1;33m[\u001b[0m\u001b[1;36m0\u001b[0m\u001b[1;33m]\u001b[0m\u001b[1;33m[\u001b[0m\u001b[1;36m0\u001b[0m\u001b[1;33m]\u001b[0m\u001b[1;33m)\u001b[0m\u001b[1;33m\u001b[0m\u001b[0m\n",
      "\u001b[1;32m<ipython-input-10-afd1aacc12a9>\u001b[0m in \u001b[0;36m<dictcomp>\u001b[1;34m((real_name,))\u001b[0m\n\u001b[0;32m      1\u001b[0m \u001b[1;32mfor\u001b[0m \u001b[0mrecognized_name\u001b[0m \u001b[1;32min\u001b[0m \u001b[0mspeech_recognition\u001b[0m\u001b[1;33m:\u001b[0m\u001b[1;33m\u001b[0m\u001b[0m\n\u001b[1;32m----> 2\u001b[1;33m     \u001b[0mdistances\u001b[0m \u001b[1;33m=\u001b[0m \u001b[1;33m{\u001b[0m\u001b[0mreal_name\u001b[0m\u001b[1;33m:\u001b[0m \u001b[0mLevenshtein\u001b[0m\u001b[1;33m.\u001b[0m\u001b[0mdistance\u001b[0m\u001b[1;33m(\u001b[0m\u001b[0mrecognized_name\u001b[0m\u001b[1;33m,\u001b[0m \u001b[0mreal_name\u001b[0m\u001b[1;33m)\u001b[0m \u001b[1;32mfor\u001b[0m \u001b[0mreal_name\u001b[0m \u001b[1;32min\u001b[0m \u001b[0mclaim_list\u001b[0m\u001b[1;33m}\u001b[0m\u001b[1;33m\u001b[0m\u001b[0m\n\u001b[0m\u001b[0;32m      3\u001b[0m     \u001b[1;32mprint\u001b[0m\u001b[1;33m(\u001b[0m\u001b[0mrecognized_name\u001b[0m \u001b[1;33m+\u001b[0m \u001b[1;34m' '\u001b[0m \u001b[1;33m+\u001b[0m \u001b[0msorted\u001b[0m\u001b[1;33m(\u001b[0m\u001b[0mdistances\u001b[0m\u001b[1;33m.\u001b[0m\u001b[0mitems\u001b[0m\u001b[1;33m(\u001b[0m\u001b[1;33m)\u001b[0m\u001b[1;33m,\u001b[0m \u001b[0mkey\u001b[0m \u001b[1;33m=\u001b[0m \u001b[1;32mlambda\u001b[0m \u001b[0mx\u001b[0m\u001b[1;33m:\u001b[0m \u001b[0mx\u001b[0m\u001b[1;33m[\u001b[0m\u001b[1;36m1\u001b[0m\u001b[1;33m]\u001b[0m\u001b[1;33m)\u001b[0m\u001b[1;33m[\u001b[0m\u001b[1;36m0\u001b[0m\u001b[1;33m]\u001b[0m\u001b[1;33m[\u001b[0m\u001b[1;36m0\u001b[0m\u001b[1;33m]\u001b[0m\u001b[1;33m)\u001b[0m\u001b[1;33m\u001b[0m\u001b[0m\n",
      "\u001b[1;31mNameError\u001b[0m: global name 'Levenshtein' is not defined"
     ]
    }
   ],
   "source": [
    "for recognized_name in speech_recognition:\n",
    "    distances = {real_name: Levenshtein.distance(recognized_name, real_name) for real_name in claim_list}\n",
    "    print(recognized_name + ' ' + sorted(distances.items(), key = lambda x: x[1])[0][0])"
   ]
  },
  {
   "cell_type": "code",
   "execution_count": null,
   "metadata": {},
   "outputs": [],
   "source": []
  }
 ],
 "metadata": {
  "kernelspec": {
   "display_name": "Python 2",
   "language": "python",
   "name": "python2"
  },
  "language_info": {
   "codemirror_mode": {
    "name": "ipython",
    "version": 2
   },
   "file_extension": ".py",
   "mimetype": "text/x-python",
   "name": "python",
   "nbconvert_exporter": "python",
   "pygments_lexer": "ipython2",
   "version": "2.7.15"
  }
 },
 "nbformat": 4,
 "nbformat_minor": 2
}
